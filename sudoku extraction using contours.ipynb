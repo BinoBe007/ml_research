{
 "cells": [
  {
   "cell_type": "code",
   "execution_count": 1,
   "metadata": {},
   "outputs": [
    {
     "name": "stderr",
     "output_type": "stream",
     "text": [
      "/home/wolf/.local/lib/python2.7/site-packages/skimage/transform/_warps.py:105: UserWarning: The default mode, 'constant', will be changed to 'reflect' in skimage 0.15.\n",
      "  warn(\"The default mode, 'constant', will be changed to 'reflect' in \"\n",
      "/home/wolf/.local/lib/python2.7/site-packages/skimage/transform/_warps.py:110: UserWarning: Anti-aliasing will be enabled by default in skimage 0.15 to avoid aliasing artifacts when down-sampling images.\n",
      "  warn(\"Anti-aliasing will be enabled by default in skimage 0.15 to \"\n"
     ]
    },
    {
     "data": {
      "text/plain": [
       "<Figure size 640x480 with 1 Axes>"
      ]
     },
     "metadata": {},
     "output_type": "display_data"
    }
   ],
   "source": [
    "from skimage.io import imread\n",
    "import matplotlib.pyplot as plt\n",
    "import math\n",
    "import os\n",
    "from skimage.io import imread\n",
    "from skimage.color import rgb2grey\n",
    "from skimage.measure import approximate_polygon\n",
    "from skimage.filters import gaussian\n",
    "from skimage.color import rgb2grey\n",
    "from skimage.filters import threshold_adaptive, threshold_yen, threshold_local\n",
    "from scipy import ndimage as ndi\n",
    "from skimage.measure import find_contours\n",
    "from skimage.draw import polygon_perimeter\n",
    "import numpy as np\n",
    "from skimage import transform as tf\n",
    "import skimage\n",
    "from skimage.feature import blob_dog, blob_log, blob_doh\n",
    "from scipy.ndimage import gaussian_filter\n",
    "\n",
    "sudoku_original = rgb2grey(imread('http://1.bp.blogspot.com/-7y7o4rdh_G8/TVWnhbfmPrI/AAAAAAAAAHA/ZW_s56iEZMo/s1600/sudoku%2B001.jpg'))\n",
    "sudoku_original = skimage.transform.resize(sudoku_original,(700,700))\n",
    "plt.axis('off')\n",
    "plt.imshow(sudoku_original)\n",
    "plt.show()"
   ]
  },
  {
   "cell_type": "code",
   "execution_count": 2,
   "metadata": {},
   "outputs": [],
   "source": [
    "#all utilities\n",
    "def clear_noisy_borders(six):\n",
    "    #vertical first\n",
    "    for i in range(20):\n",
    "        if((six[:,i] == 0).sum() > 80):\n",
    "            six[:,i] = (six[:,i]*0)+1\n",
    "\n",
    "    for i in range(110,128):\n",
    "        if((six[:,i] == 0).sum() > 80):\n",
    "            six[:,i] = (six[:,i]*0)+1\n",
    "\n",
    "    #horizontal now\n",
    "    for i in range(20):\n",
    "        if((six[i,:] == 0).sum() > 80):\n",
    "            six[i,:] = (six[i,:]*0)+1\n",
    "\n",
    "    for i in range(110,128):\n",
    "        if((six[i,:] == 0).sum() > 80):\n",
    "            six[i,:] = (six[i,:]*0)+1\n",
    "    \n",
    "    return six\n",
    "\n",
    "def area_of_rectangle(Xmin, Xmax, Ymin, Ymax):\n",
    "    return ((Ymax-Ymin)*(Xmax-Xmin))\n",
    "\n",
    "def find_areas_bound_by_contours(contours):\n",
    "    areas_bound_by_contours = []\n",
    "    for index, contour in enumerate(contours):\n",
    "        Xmin = np.min(contour[:,0])\n",
    "        Xmax = np.max(contour[:,0])\n",
    "        Ymin = np.min(contour[:,1])\n",
    "        Ymax = np.max(contour[:,1])\n",
    "        areas_bound_by_contours.append([index,area_of_rectangle(Xmin, Xmax, Ymin, Ymax)])\n",
    "        \n",
    "    return areas_bound_by_contours\n",
    "\n",
    "def get_highest_area(areas_bound_by_contours):\n",
    "    highest_area = [0,0]\n",
    "    for areas in areas_bound_by_contours:\n",
    "        if areas[1] > highest_area[1]:\n",
    "            highest_area = areas\n",
    "    return highest_area\n",
    "\n",
    "def fill_holes(six):\n",
    "    return ndi.binary_fill_holes(six)\n",
    "\n",
    "#ref:https://stackoverflow.com/questions/1211212/how-to-calculate-an-angle-from-three-points\n",
    "def findAngle(p0,p1,p2):\n",
    "    b = (p1[0]-p0[0])**2 + (p1[1]-p0[1])**2\n",
    "    a = (p1[0]-p2[0])**2 + (p1[1]-p2[1])**2\n",
    "    c = (p2[0]-p0[0])**2 + (p2[1]-p0[1])**2\n",
    "    return math.degrees(math.acos( (a+b-c) / math.sqrt(4*a*b) ))\n",
    "\n",
    "\n",
    "def pre_process_block(box):\n",
    "    #box = warped[row*100:row*100+100,col*100:col*100+100].copy()\n",
    "    box = skimage.transform.resize(box,(128,128))\n",
    "    box = gaussian_filter(box, 1)\n",
    "    box_binary_adaptive = threshold_local(box, block_size=99)\n",
    "    binary = box <= box_binary_adaptive\n",
    "    box = skimage.util.invert(binary)*1\n",
    "    box = clear_noisy_borders(box)\n",
    "    contours = find_contours(box, level=0.8)\n",
    "    areas_bound_by_contours = find_areas_bound_by_contours(contours)\n",
    "\n",
    "    for area in areas_bound_by_contours:\n",
    "        threshold = 0.33\n",
    "        percentage_of_area = area[1]/(128*128)\n",
    "        if percentage_of_area<threshold:\n",
    "            cont = contours[area[0]].astype(int)\n",
    "            Xmin = np.min(cont[:,0])\n",
    "            Xmax = np.max(cont[:,0])\n",
    "            Ymin = np.min(cont[:,1])\n",
    "            Ymax = np.max(cont[:,1])\n",
    "            box[Xmin:Xmax, Ymin:Ymax] = 1\n",
    "\n",
    "    return box"
   ]
  },
  {
   "cell_type": "code",
   "execution_count": 3,
   "metadata": {},
   "outputs": [],
   "source": [
    "contours = find_contours(sudoku_original, 0.8)"
   ]
  },
  {
   "cell_type": "code",
   "execution_count": 4,
   "metadata": {},
   "outputs": [],
   "source": [
    "# fig, ax = plt.subplots(figsize=(20,20))\n",
    "# ax.axis(\"off\")\n",
    "# ax.imshow(sudoku_original, cmap=\"gray\")\n",
    "# for i in range(len(contours)-1):\n",
    "#     ax.plot(contours[i][:, 1], contours[i][:, 0], linewidth=2)"
   ]
  },
  {
   "cell_type": "code",
   "execution_count": 5,
   "metadata": {},
   "outputs": [
    {
     "data": {
      "text/plain": [
       "9239"
      ]
     },
     "execution_count": 5,
     "metadata": {},
     "output_type": "execute_result"
    }
   ],
   "source": [
    "len(contours)"
   ]
  }
 ],
 "metadata": {
  "kernelspec": {
   "display_name": "Python 2",
   "language": "python",
   "name": "python2"
  },
  "language_info": {
   "codemirror_mode": {
    "name": "ipython",
    "version": 2
   },
   "file_extension": ".py",
   "mimetype": "text/x-python",
   "name": "python",
   "nbconvert_exporter": "python",
   "pygments_lexer": "ipython2",
   "version": "2.7.15"
  }
 },
 "nbformat": 4,
 "nbformat_minor": 2
}
