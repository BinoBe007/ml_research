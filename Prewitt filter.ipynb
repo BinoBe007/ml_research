{
 "cells": [
  {
   "cell_type": "code",
   "execution_count": 3,
   "metadata": {},
   "outputs": [
    {
     "data": {
      "image/png": "[encoded data removed]",
      "text/plain": [
       "<matplotlib.figure.Figure at 0x10e8dd950>"
      ]
     },
     "metadata": {},
     "output_type": "display_data"
    }
   ],
   "source": [
    "import numpy as np\n",
    "from skimage.io import imread\n",
    "from skimage.color import rgb2gray\n",
    "import matplotlib.pyplot as plt\n",
    "\n",
    "input_pixels = np.array(rgb2gray(imread('resources/city.jpg'))*256, dtype=np.uint8)\n",
    "plt.axis(\"off\")\n",
    "# plt.imshow(input_pixels, cmap=\"gray\")\n",
    "\n",
    "kernel_horizontal = np.array([[1, 0, -1], [1, 0, -1], [1, 0, -1]], dtype = np.float)\n",
    "kernel_vertical   = np.array([[1, 1, 1], [0, 0, 0], [-1, -1, -1]], dtype = np.float)\n",
    "\n",
    "from scipy import signal\n",
    "\n",
    "Gx = signal.convolve2d(input_pixels, kernel_horizontal, boundary='symm', mode='same')\n",
    "Gy = signal.convolve2d(input_pixels, kernel_vertical, boundary='symm', mode='same')\n",
    "\n",
    "gradient_magnitude = np.sqrt(Gx * Gx + Gy * Gy)\n",
    "gradient_magnitude *= 255.0 / np.max(gradient_magnitude)"
   ]
  },
  {
   "cell_type": "code",
   "execution_count": null,
   "metadata": {},
   "outputs": [],
   "source": [
    "plt.imshow(Gx, cmap=\"gray\")"
   ]
  },
  {
   "cell_type": "code",
   "execution_count": null,
   "metadata": {},
   "outputs": [],
   "source": [
    "plt.imshow(Gy, cmap=\"gray\")"
   ]
  },
  {
   "cell_type": "code",
   "execution_count": null,
   "metadata": {},
   "outputs": [],
   "source": [
    "plt.imshow(gradient_magnitude, cmap=\"gray\")"
   ]
  }
 ],
 "metadata": {
  "kernelspec": {
   "display_name": "Python 2",
   "language": "python",
   "name": "python2"
  },
  "language_info": {
   "codemirror_mode": {
    "name": "ipython",
    "version": 2
   },
   "file_extension": ".py",
   "mimetype": "text/x-python",
   "name": "python",
   "nbconvert_exporter": "python",
   "pygments_lexer": "ipython2",
   "version": "2.7.15"
  }
 },
 "nbformat": 4,
 "nbformat_minor": 2
}
