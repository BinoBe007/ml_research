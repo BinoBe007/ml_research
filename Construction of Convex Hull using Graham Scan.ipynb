{
 "cells": [
  {
   "cell_type": "markdown",
   "metadata": {},
   "source": [
    "#### High Level : Convex hull algorithm produces an array of points fully enclosing the given set of points.\n",
    "##### the algorithm on the high level \n",
    "1. find a point with the lowest y coordniate value, if there are more than one, then select the one with the lower x coordinate value. Call this point an Anchor point\n",
    "2. sort all the points based on the polar angle they make with the anchor point. If two points make the same angle with Anchor Point P, then sort it by distance with P.\n",
    "3. initialize the convex hull with P and first element in the sorted array.\n",
    "4. iterate over each point in the sorted array and see if traversing to a point from previous two points make clockwise or counter clockwise direction. if clockwise then reject the point and move on to the next point. Continue this till you reach the anchor point."
   ]
  },
  {
   "cell_type": "code",
   "execution_count": 1,
   "metadata": {},
   "outputs": [
    {
     "data": {
      "text/plain": [
       "<matplotlib.collections.PathCollection at 0x114d540f0>"
      ]
     },
     "execution_count": 1,
     "metadata": {},
     "output_type": "execute_result"
    }
   ],
   "source": [
    "#create a random set of datapoints\n",
    "import random\n",
    "import matplotlib.pyplot as plt\n",
    "import numpy as np\n",
    "import seaborn; seaborn.set()\n",
    "\n",
    "number_of_datapoints = 50\n",
    "datapoints = np.random.randint(1,100,size=(number_of_datapoints,2))\n",
    "#plto the points on scatter plot\n",
    "plt.scatter(datapoints[:,0], datapoints[:,1])"
   ]
  },
  {
   "cell_type": "markdown",
   "metadata": {},
   "source": [
    "#### Step 1 : Find a point with the lowest y coordniate value, if there are more than one, then select the one with the lower x coordinate value. Call this point an Anchor point"
   ]
  },
  {
   "cell_type": "code",
   "execution_count": 2,
   "metadata": {},
   "outputs": [
    {
     "name": "stdout",
     "output_type": "stream",
     "text": [
      "[98  2]\n"
     ]
    }
   ],
   "source": [
    "anchor_point = datapoints[0]\n",
    "for _, point in enumerate(datapoints):\n",
    "    if point[1] < anchor_point[1]:\n",
    "        anchor_point = point\n",
    "    elif point[1] == anchor_point[1] and point[0] < anchor_point[0]:\n",
    "        anchor_point = point\n",
    "print(anchor_point)"
   ]
  },
  {
   "cell_type": "markdown",
   "metadata": {},
   "source": [
    "#### Step 2: Sort all the points based on the angle they make with the anchor point. If two points make the same angle with Anchor Point P, then sort it by distance with P."
   ]
  },
  {
   "cell_type": "code",
   "execution_count": 3,
   "metadata": {},
   "outputs": [],
   "source": [
    "from math import atan2\n",
    "\n",
    "def polar_angle(p0, p1):\n",
    "    y_span=p0[1]-p1[1]\n",
    "    x_span=p0[0]-p1[0]\n",
    "    return atan2(y_span,x_span)\n",
    "\n",
    "# find the angle\n",
    "datapoints_angles = []\n",
    "origin = [0,0]\n",
    "for _, point in enumerate(datapoints):\n",
    "    datapoints_angles.append([point[0],point[1], polar_angle(anchor_point, point)])\n",
    "\n",
    "datapoints_angles = np.array(datapoints_angles)    \n",
    "datapoints_angles = datapoints_angles[datapoints_angles[:,2].argsort()]\n",
    "sorted_datapoints =  datapoints_angles[:,(0,1)]"
   ]
  },
  {
   "cell_type": "code",
   "execution_count": 4,
   "metadata": {},
   "outputs": [
    {
     "data": {
      "text/plain": [
       "<matplotlib.collections.PathCollection at 0x114de2c18>"
      ]
     },
     "execution_count": 4,
     "metadata": {},
     "output_type": "execute_result"
    },
    {
     "data": {
      "image/png": "[encoded data removed]",
      "text/plain": [
       "<Figure size 432x288 with 1 Axes>"
      ]
     },
     "metadata": {
      "needs_background": "light"
     },
     "output_type": "display_data"
    }
   ],
   "source": [
    "plt.scatter(datapoints[:,0], datapoints[:,1])\n",
    "plt.scatter(sorted_datapoints[0:5,0], sorted_datapoints[0:5,1], c='g')"
   ]
  },
  {
   "cell_type": "markdown",
   "metadata": {},
   "source": [
    "#### step 3: initialize the convex hull with P and first element in the sorted array."
   ]
  },
  {
   "cell_type": "code",
   "execution_count": 8,
   "metadata": {},
   "outputs": [],
   "source": [
    "convex_hull = [anchor_point, sorted_datapoints[0]]"
   ]
  },
  {
   "cell_type": "markdown",
   "metadata": {},
   "source": [
    "#### step 4: iterate over each point in the sorted array and see if the sequence of two points make clockwise or counter clockwise direction. if clockwise then reject the point and move on to the next point. Continue this till you reach the anchor point."
   ]
  },
  {
   "cell_type": "code",
   "execution_count": 9,
   "metadata": {},
   "outputs": [],
   "source": [
    "def ccw(a, b, c):\n",
    "    return (b[0] - a[0]) * (c[1] - a[1]) - (c[0] - a[0]) * (b[1] - a[1])\n",
    "\n",
    "for point in sorted_datapoints[1:]:\n",
    "    while ccw(convex_hull[-2],convex_hull[-1], point)<=0:\n",
    "        del convex_hull[-1] # backtrack\n",
    "    convex_hull.append(point)"
   ]
  },
  {
   "cell_type": "code",
   "execution_count": 10,
   "metadata": {},
   "outputs": [
    {
     "data": {
      "text/plain": [
       "[<matplotlib.lines.Line2D at 0x114ead128>]"
      ]
     },
     "execution_count": 10,
     "metadata": {},
     "output_type": "execute_result"
    },
    {
     "data": {
      "image/png": "[encoded data removed]",
      "text/plain": [
       "<Figure size 432x288 with 1 Axes>"
      ]
     },
     "metadata": {
      "needs_background": "light"
     },
     "output_type": "display_data"
    }
   ],
   "source": [
    "convex_hull = np.array(convex_hull)\n",
    "plt.scatter(datapoints_angles[:,0], datapoints_angles[:,1])\n",
    "plt.plot(convex_hull[:,0], convex_hull[:,1], c='g')"
   ]
  }
 ],
 "metadata": {
  "kernelspec": {
   "display_name": "Python 3",
   "language": "python",
   "name": "python3"
  },
  "language_info": {
   "codemirror_mode": {
    "name": "ipython",
    "version": 3
   },
   "file_extension": ".py",
   "mimetype": "text/x-python",
   "name": "python",
   "nbconvert_exporter": "python",
   "pygments_lexer": "ipython3",
   "version": "3.7.3"
  }
 },
 "nbformat": 4,
 "nbformat_minor": 2
}
