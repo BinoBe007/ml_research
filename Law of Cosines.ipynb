{
 "cells": [
  {
   "cell_type": "code",
   "execution_count": 7,
   "metadata": {},
   "outputs": [
    {
     "name": "stdout",
     "output_type": "stream",
     "text": [
      "Angle between points: 72.89727103094764\n",
      "Angle between points: 45.00000000000001\n"
     ]
    }
   ],
   "source": [
    "import numpy as np\n",
    "import math\n",
    "\n",
    "def angle_between_three_points(pointA, pointB, pointC):\n",
    "    \n",
    "    x1x2s = math.pow((pointA[0] - pointB[0]),2)\n",
    "    x1x3s = math.pow((pointA[0] - pointC[0]),2)\n",
    "    x2x3s = math.pow((pointB[0] - pointC[0]),2)\n",
    "    \n",
    "    y1y2s = math.pow((pointA[1] - pointB[1]),2)\n",
    "    y1y3s = math.pow((pointA[1] - pointC[1]),2)\n",
    "    y2y3s = math.pow((pointB[1] - pointC[1]),2)\n",
    "\n",
    "    cosine_angle = np.arccos((x1x2s + y1y2s + x2x3s + y2y3s - x1x3s - y1y3s)/(2*math.sqrt(x1x2s + y1y2s)*math.sqrt(x2x3s + y2y3s)))\n",
    "\n",
    "    return np.degrees(cosine_angle)\n",
    "\n",
    "A = np.array([2,4])\n",
    "B = np.array([8,7])\n",
    "C = np.array([9,1])\n",
    "\n",
    "print(\"Angle between points:\", angle_between_three_points(A,B,C))\n",
    "\n",
    "A = np.array([0,0])\n",
    "B = np.array([0,4])\n",
    "C = np.array([4,0])\n",
    "\n",
    "\n",
    "print(\"Angle between points:\", angle_between_three_points(A,B,C))"
   ]
  },
  {
   "cell_type": "code",
   "execution_count": null,
   "metadata": {},
   "outputs": [],
   "source": []
  }
 ],
 "metadata": {
  "kernelspec": {
   "display_name": "Python 3",
   "language": "python",
   "name": "python3"
  },
  "language_info": {
   "codemirror_mode": {
    "name": "ipython",
    "version": 3
   },
   "file_extension": ".py",
   "mimetype": "text/x-python",
   "name": "python",
   "nbconvert_exporter": "python",
   "pygments_lexer": "ipython3",
   "version": "3.7.3"
  }
 },
 "nbformat": 4,
 "nbformat_minor": 2
}
