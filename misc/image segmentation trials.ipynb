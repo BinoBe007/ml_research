{
 "cells": [
  {
   "cell_type": "code",
   "execution_count": 3,
   "metadata": {},
   "outputs": [
    {
     "data": {
      "text/plain": [
       "<Figure size 1000x1000 with 1 Axes>"
      ]
     },
     "metadata": {},
     "output_type": "display_data"
    }
   ],
   "source": [
    "from skimage.io import imread\n",
    "import matplotlib.pyplot as plt\n",
    "\n",
    "sudoku_extracted = imread('../resources/download.png')\n",
    "plt.figure(figsize=(10,10))\n",
    "plt.axis('off')\n",
    "plt.imshow(sudoku_extracted)\n",
    "plt.show()"
   ]
  },
  {
   "cell_type": "code",
   "execution_count": 6,
   "metadata": {},
   "outputs": [
    {
     "name": "stderr",
     "output_type": "stream",
     "text": [
      "/home/wolf/.local/lib/python2.7/site-packages/skimage/transform/_warps.py:105: UserWarning: The default mode, 'constant', will be changed to 'reflect' in skimage 0.15.\n",
      "  warn(\"The default mode, 'constant', will be changed to 'reflect' in \"\n",
      "/home/wolf/.local/lib/python2.7/site-packages/skimage/transform/_warps.py:110: UserWarning: Anti-aliasing will be enabled by default in skimage 0.15 to avoid aliasing artifacts when down-sampling images.\n",
      "  warn(\"Anti-aliasing will be enabled by default in skimage 0.15 to \"\n"
     ]
    },
    {
     "data": {
      "text/plain": [
       "[0, 100, 100, 0]"
      ]
     },
     "execution_count": 6,
     "metadata": {},
     "output_type": "execute_result"
    },
    {
     "data": {
      "image/png": "[encoded data removed]",
      "text/plain": [
       "<Figure size 504x504 with 1 Axes>"
      ]
     },
     "metadata": {},
     "output_type": "display_data"
    }
   ],
   "source": [
    "from skimage.color import rgb2gray\n",
    "from skimage.filters import gaussian\n",
    "from skimage.segmentation import active_contour\n",
    "import numpy as np\n",
    "import skimage \n",
    "\n",
    "img = skimage.transform.resize(rgb2gray(sudoku_extracted), (900,900))\n",
    "s = np.linspace(0, 2*np.pi, 400)\n",
    "x = 220 + 100*np.cos(s)\n",
    "y = 100 + 100*np.sin(s)\n",
    "init = np.array([x, y]).T\n",
    "\n",
    "img = img[0:100,400:500]\n",
    "\n",
    "snake = active_contour(gaussian(img, 3),\n",
    "                       init, alpha=0.015, beta=10, gamma=0.001)\n",
    "\n",
    "fig, ax = plt.subplots(figsize=(7, 7))\n",
    "ax.imshow(img, cmap=plt.cm.gray)\n",
    "ax.plot(init[:, 0], init[:, 1], '--r', lw=3)\n",
    "ax.plot(snake[:, 0], snake[:, 1], '-b', lw=3)\n",
    "ax.set_xticks([]), ax.set_yticks([])\n",
    "ax.axis([0, img.shape[1], img.shape[0], 0])"
   ]
  },
  {
   "cell_type": "code",
   "execution_count": 8,
   "metadata": {},
   "outputs": [
    {
     "data": {
      "image/png": "[encoded data removed]",
      "text/plain": [
       "<Figure size 432x288 with 1 Axes>"
      ]
     },
     "metadata": {
      "needs_background": "light"
     },
     "output_type": "display_data"
    }
   ],
   "source": [
    "from skimage import data, img_as_float\n",
    "from skimage.segmentation import chan_vese\n",
    "\n",
    "image = img_as_float(img)\n",
    "# Feel free to play around with the parameters to see how they impact the result\n",
    "cv = chan_vese(image, mu=0.25, lambda1=1, lambda2=1, tol=1e-3, max_iter=200,\n",
    "               dt=0.5, init_level_set=\"checkerboard\", extended_output=True)\n",
    "\n",
    "# fig, axes = plt.subplots(2, 2, figsize=(8, 8))\n",
    "# ax = axes.flatten()\n",
    "\n",
    "# ax[0].imshow(image, cmap=\"gray\")\n",
    "# ax[0].set_axis_off()\n",
    "# ax[0].set_title(\"Original Image\", fontsize=12)\n",
    "\n",
    "# ax[1].imshow(cv[0], cmap=\"gray\")\n",
    "# ax[1].set_axis_off()\n",
    "# title = \"Chan-Vese segmentation - {} iterations\".format(len(cv[2]))\n",
    "# ax[1].set_title(title, fontsize=12)\n",
    "\n",
    "# ax[2].imshow(cv[1], cmap=\"gray\")\n",
    "# ax[2].set_axis_off()\n",
    "# ax[2].set_title(\"Final Level Set\", fontsize=12)\n",
    "\n",
    "# ax[3].plot(cv[2])\n",
    "# ax[3].set_title(\"Evolution of energy over iterations\", fontsize=12)\n",
    "\n",
    "# fig.tight_layout()\n",
    "plt.imshow(cv[0], cmap=\"gray\")\n",
    "plt.show()"
   ]
  },
  {
   "cell_type": "code",
   "execution_count": null,
   "metadata": {},
   "outputs": [],
   "source": []
  }
 ],
 "metadata": {
  "kernelspec": {
   "display_name": "Python 2",
   "language": "python",
   "name": "python2"
  },
  "language_info": {
   "codemirror_mode": {
    "name": "ipython",
    "version": 2
   },
   "file_extension": ".py",
   "mimetype": "text/x-python",
   "name": "python",
   "nbconvert_exporter": "python",
   "pygments_lexer": "ipython2",
   "version": "2.7.15"
  }
 },
 "nbformat": 4,
 "nbformat_minor": 2
}
