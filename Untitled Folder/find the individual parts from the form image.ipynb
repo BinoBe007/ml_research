{
 "cells": [
  {
   "cell_type": "code",
   "execution_count": 1,
   "metadata": {},
   "outputs": [
    {
     "data": {
      "text/plain": [
       "<Figure size 2000x2000 with 2 Axes>"
      ]
     },
     "metadata": {},
     "output_type": "display_data"
    }
   ],
   "source": [
    "from skimage.io import imread\n",
    "import matplotlib.pyplot as plt\n",
    "from skimage.color import rgb2gray\n",
    "import matplotlib.pyplot as plt\n",
    "from skimage.filters import threshold_otsu\n",
    "from skimage.util import invert\n",
    "from skimage.morphology import skeletonize\n",
    "import numpy as np\n",
    "\n",
    "def get_binary(img):    \n",
    "    thresh = threshold_otsu(img)\n",
    "    binary = img <= thresh\n",
    "    binary = invert(binary)*1\n",
    "    return binary\n",
    "\n",
    "sample_image = \"../step1_image.jpg\"\n",
    "sample_image = get_binary(rgb2gray(imread(sample_image)))\n",
    "\n",
    "template_image_sample = \"../pan1.jpg\"\n",
    "template_img = get_binary(rgb2gray(imread(template_image_sample)))\n",
    "\n",
    "\n",
    "fig, ax = plt.subplots(figsize=(20,20), nrows=1, ncols=2)\n",
    "ax[0].imshow(sample_image, cmap=\"gray\")\n",
    "ax[1].imshow(template_img, cmap=\"gray\")\n",
    "plt.show()"
   ]
  },
  {
   "cell_type": "code",
   "execution_count": 2,
   "metadata": {},
   "outputs": [],
   "source": [
    "#find the boundaries of the image by using the first pixel found from top, bottom , left and right\n",
    "def find_boundaries(img):\n",
    "    r,c = img.shape\n",
    "    up = []\n",
    "    lt = []\n",
    "    rt = []\n",
    "    bt = []\n",
    "    #TODO: optimize the below loops.\n",
    "    #find the upper line\n",
    "    loops_run = 0\n",
    "    for ci in range(c):\n",
    "        found = False\n",
    "        for ri in range(r):\n",
    "            loops_run = loops_run + 1\n",
    "            if not found and img[ri,ci] == 0:\n",
    "                found = True\n",
    "                up.append(ri)\n",
    "\n",
    "    print loops_run\n",
    "\n",
    "    #find the left line\n",
    "    for ri in range(r):\n",
    "        found = False\n",
    "        for ci in range(c):\n",
    "            loops_run = loops_run + 1\n",
    "            if not found and img[ri,ci] == 0:\n",
    "                found = True\n",
    "                lt.append(ci)\n",
    "\n",
    "    print loops_run\n",
    "\n",
    "    #find the right line\n",
    "    for ri in range(r):\n",
    "        found = False\n",
    "        for ci in xrange(c-1, 0 , -1):#reverse loop\n",
    "            loops_run = loops_run + 1\n",
    "            if not found and img[ri,ci] == 0:\n",
    "                found = True\n",
    "                rt.append(ci)\n",
    "\n",
    "    print loops_run\n",
    "\n",
    "    #find the bottom line\n",
    "    for ci in range(c):\n",
    "        found = False\n",
    "        for ri in xrange(r-1, 0 , -1):#reverse loop\n",
    "            loops_run = loops_run + 1\n",
    "            if not found and img[ri,ci] == 0:\n",
    "                found = True\n",
    "                bt.append(ri)\n",
    "\n",
    "    print loops_run\n",
    "    \n",
    "    return np.median(lt).astype(int), np.median(rt).astype(int), np.median(up).astype(int), np.median(bt).astype(int)\n",
    "\n",
    "def crop_image(img, lt, rt, up , bt):\n",
    "    return img[up: bt, lt:rt]"
   ]
  },
  {
   "cell_type": "code",
   "execution_count": 3,
   "metadata": {},
   "outputs": [
    {
     "name": "stdout",
     "output_type": "stream",
     "text": [
      "1414000\n",
      "2828000\n",
      "4240586\n",
      "5653586\n",
      "8703348\n",
      "17406696\n",
      "26106536\n",
      "34807403\n",
      "2.48023862789\n"
     ]
    }
   ],
   "source": [
    "from __future__ import division\n",
    "\n",
    "#scanned image\n",
    "lt, rt, up , bt = find_boundaries(sample_image)\n",
    "sample_image = crop_image(sample_image, lt, rt, up , bt)\n",
    "\n",
    "#original image\n",
    "ltt, rtt, upt , btt = find_boundaries(template_img)\n",
    "template_img = crop_image(template_img, ltt, rtt, upt , btt)\n",
    "\n",
    "#so how much is it scaled?\n",
    "scaled_factor = template_img.shape[0]/sample_image.shape[0]\n",
    "print scaled_factor"
   ]
  },
  {
   "cell_type": "code",
   "execution_count": 4,
   "metadata": {},
   "outputs": [],
   "source": [
    "#the format of the below is, lurb\n",
    "#from the below positions from my original empty form i need to extract the images from the sample image.\n",
    "template_positions = {\n",
    "    'last_name':[801,954,2274,1010],\n",
    "    'first_name':[801,1016,2275,1073]\n",
    "}"
   ]
  },
  {
   "cell_type": "code",
   "execution_count": 5,
   "metadata": {},
   "outputs": [
    {
     "data": {
      "image/png": "[encoded data removed]",
      "text/plain": [
       "<Figure size 1440x1440 with 1 Axes>"
      ]
     },
     "metadata": {
      "needs_background": "light"
     },
     "output_type": "display_data"
    }
   ],
   "source": [
    "def get_image_at_position(img, l, r, u, b):\n",
    "    return img[u:b, l:r]\n",
    "\n",
    "l = int(template_positions['last_name'][0]/scaled_factor)-lt\n",
    "r = int(template_positions['last_name'][2]/scaled_factor)-lt\n",
    "u = int(template_positions['last_name'][1]/scaled_factor)-up\n",
    "b = int(template_positions['last_name'][3]/scaled_factor)-up\n",
    "\n",
    "pos_img = get_image_at_position(sample_image, l, r, u, b)\n",
    "plt.subplots(figsize=(20,20))\n",
    "plt.imshow(pos_img, cmap=\"gray\")\n",
    "plt.show()"
   ]
  },
  {
   "cell_type": "code",
   "execution_count": 6,
   "metadata": {},
   "outputs": [
    {
     "data": {
      "image/png": "[encoded data removed]",
      "text/plain": [
       "<Figure size 432x288 with 1 Axes>"
      ]
     },
     "metadata": {
      "needs_background": "light"
     },
     "output_type": "display_data"
    }
   ],
   "source": [
    "plt.imshow(pos_img[:,0:24], cmap=\"gray\")\n",
    "plt.show()"
   ]
  },
  {
   "cell_type": "code",
   "execution_count": null,
   "metadata": {},
   "outputs": [],
   "source": []
  }
 ],
 "metadata": {
  "kernelspec": {
   "display_name": "Python 2",
   "language": "python",
   "name": "python2"
  },
  "language_info": {
   "codemirror_mode": {
    "name": "ipython",
    "version": 2
   },
   "file_extension": ".py",
   "mimetype": "text/x-python",
   "name": "python",
   "nbconvert_exporter": "python",
   "pygments_lexer": "ipython2",
   "version": "2.7.15"
  }
 },
 "nbformat": 4,
 "nbformat_minor": 2
}
