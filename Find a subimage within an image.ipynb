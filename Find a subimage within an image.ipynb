{
 "cells": [
  {
   "cell_type": "code",
   "execution_count": null,
   "metadata": {},
   "outputs": [],
   "source": [
    "# from skimage.feature import match_template\n",
    "# from skimage.io import imread\n",
    "\n",
    "# sub_image = imread('resources/smaller.jpg')\n",
    "# template = imread('resources/puppy.jpg')\n",
    "\n",
    "import cv2 as cv\n",
    "import matplotlib.pyplot as plt\n",
    "\n",
    "method = cv.TM_CCOEFF_NORMED\n",
    "\n",
    "# Read the images from the file\n",
    "# small_image = cv.imread('resources/smaller.png')\n",
    "small_image = cv.imread('resources/sub_font.png')\n",
    "# large_image = cv.imread('resources/biggerimage.png')\n",
    "large_image = cv.imread('resources/sf3.png')\n",
    "\n",
    "result = cv.matchTemplate(small_image, large_image, method)\n",
    "\n",
    "# We want the minimum squared difference\n",
    "mn,_,mnLoc,_ = cv.minMaxLoc(result)\n",
    "\n",
    "# Draw the rectangle:\n",
    "# Extract the coordinates of our best match\n",
    "MPx,MPy = mnLoc\n",
    "\n",
    "# Step 2: Get the size of the template. This is the same size as the match.\n",
    "trows,tcols = small_image.shape[:2]\n",
    "\n",
    "# Step 3: Draw the rectangle on large_image\n",
    "cv.rectangle(large_image, (MPx,MPy),(MPx+tcols,MPy+trows),(0,0,255),2)\n",
    "\n",
    "# Display the original image with the rectangle around the match.\n",
    "# cv.imshow('output',large_image)\n",
    "cv.imwrite('output.png',large_image)\n",
    "# plt.imshow(large_image)"
   ]
  },
  {
   "cell_type": "code",
   "execution_count": null,
   "metadata": {},
   "outputs": [],
   "source": []
  },
  {
   "cell_type": "code",
   "execution_count": null,
   "metadata": {},
   "outputs": [],
   "source": []
  }
 ],
 "metadata": {
  "kernelspec": {
   "display_name": "Python 2",
   "language": "python",
   "name": "python2"
  },
  "language_info": {
   "codemirror_mode": {
    "name": "ipython",
    "version": 2
   },
   "file_extension": ".py",
   "mimetype": "text/x-python",
   "name": "python",
   "nbconvert_exporter": "python",
   "pygments_lexer": "ipython2",
   "version": "2.7.15"
  }
 },
 "nbformat": 4,
 "nbformat_minor": 2
}
