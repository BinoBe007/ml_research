{
 "cells": [
  {
   "cell_type": "code",
   "execution_count": 2,
   "metadata": {},
   "outputs": [
    {
     "name": "stdout",
     "output_type": "stream",
     "text": [
      "[[7 4 3]\n",
      " [4 1 8]\n",
      " [6 3 5]\n",
      " [8 6 1]\n",
      " [8 5 7]\n",
      " [7 2 9]\n",
      " [5 3 3]\n",
      " [9 5 8]\n",
      " [7 4 5]\n",
      " [8 2 2]]\n"
     ]
    },
    {
     "data": {
      "text/plain": [
       "<mpl_toolkits.mplot3d.art3d.Path3DCollection at 0x10ec2d290>"
      ]
     },
     "execution_count": 2,
     "metadata": {},
     "output_type": "execute_result"
    }
   ],
   "source": [
    "import numpy as np\n",
    "from matplotlib import pyplot\n",
    "from mpl_toolkits.mplot3d import Axes3D\n",
    "\n",
    "#sample data in 3d\n",
    "input = np.array([[7,4,3],[4,1,8],[6,3,5],[8,6,1],[8,5,7],[7,2,9],[5,3,3],[9,5,8],[7,4,5],[8,2,2]])\n",
    "\n",
    "fig = pyplot.figure()\n",
    "ax = Axes3D(fig)\n",
    "\n",
    "print(input)\n",
    "ax.scatter(input[:,0], input[:,1], input[:,2])"
   ]
  },
  {
   "cell_type": "code",
   "execution_count": 3,
   "metadata": {},
   "outputs": [
    {
     "name": "stdout",
     "output_type": "stream",
     "text": [
      "[[ 0.1  0.5 -2.1]\n",
      " [-2.9 -2.5  2.9]\n",
      " [-0.9 -0.5 -0.1]\n",
      " [ 1.1  2.5 -4.1]\n",
      " [ 1.1  1.5  1.9]\n",
      " [ 0.1 -1.5  3.9]\n",
      " [-1.9 -0.5 -2.1]\n",
      " [ 2.1  1.5  2.9]\n",
      " [ 0.1  0.5 -0.1]\n",
      " [ 1.1 -1.5 -3.1]]\n"
     ]
    },
    {
     "data": {
      "text/plain": [
       "<mpl_toolkits.mplot3d.art3d.Path3DCollection at 0x10ec2d890>"
      ]
     },
     "execution_count": 3,
     "metadata": {},
     "output_type": "execute_result"
    }
   ],
   "source": [
    "#step 1, adjust dataset to the mean\n",
    "adjusted_input = input - np.array([np.mean(input[:,0]), np.mean(input[:,1]), np.mean(input[:,2])])\n",
    "print(adjusted_input)\n",
    "ax.scatter(adjusted_input[:,0], adjusted_input[:,1], adjusted_input[:,2])"
   ]
  },
  {
   "cell_type": "code",
   "execution_count": 4,
   "metadata": {},
   "outputs": [
    {
     "name": "stdout",
     "output_type": "stream",
     "text": [
      "[[ 2.32222222  1.61111111 -0.43333333]\n",
      " [ 1.61111111  2.5        -1.27777778]\n",
      " [-0.43333333 -1.27777778  7.87777778]]\n"
     ]
    }
   ],
   "source": [
    "#step 2: find the covariance matrix\n",
    "cov = np.cov([adjusted_input[:,0], adjusted_input[:,1], adjusted_input[:,2]])\n",
    "print(cov)"
   ]
  },
  {
   "cell_type": "code",
   "execution_count": 5,
   "metadata": {},
   "outputs": [
    {
     "name": "stdout",
     "output_type": "stream",
     "text": [
      "Eigen Value\n",
      "[0.74992815 3.67612927 8.27394258]\n",
      "Eigen Vector\n",
      "[[-0.70172743  0.69903712 -0.1375708 ]\n",
      " [ 0.70745703  0.66088917 -0.25045969]\n",
      " [ 0.08416157  0.27307986  0.95830278]]\n"
     ]
    }
   ],
   "source": [
    "#step 3: find the eigen vectors\n",
    "from numpy import linalg as LA\n",
    "w, v = LA.eig(cov)\n",
    "print(\"Eigen Value\")\n",
    "print(w)\n",
    "print(\"Eigen Vector\")\n",
    "print(v)"
   ]
  },
  {
   "cell_type": "code",
   "execution_count": 6,
   "metadata": {},
   "outputs": [
    {
     "name": "stdout",
     "output_type": "stream",
     "text": [
      "[[ 2.15142276 -0.17311941]\n",
      " [-3.80418259 -2.88749898]\n",
      " [-0.15321328 -0.98688598]\n",
      " [ 4.7065185   1.30153634]\n",
      " [-1.29375788  2.27912632]\n",
      " [-4.0993133   0.1435814 ]\n",
      " [ 1.62582148 -2.23208282]\n",
      " [-2.11448986  3.2512433 ]\n",
      " [ 0.2348172   0.37304031]\n",
      " [ 2.74637697 -1.06894049]]\n"
     ]
    }
   ],
   "source": [
    "#step 4: multiply the original data with the eigen vector\n",
    "pc2 = np.dot(adjusted_input, np.array(v.T[1])).T\n",
    "pc3 = np.dot(adjusted_input, np.array(v.T[2])).T*-1\n",
    "components = np.array([pc3, pc2]).T\n",
    "print(components)"
   ]
  },
  {
   "cell_type": "code",
   "execution_count": 7,
   "metadata": {},
   "outputs": [
    {
     "data": {
      "text/plain": [
       "<matplotlib.collections.PathCollection at 0x10db25e10>"
      ]
     },
     "execution_count": 7,
     "metadata": {},
     "output_type": "execute_result"
    },
    {
     "data": {
      "image/png": "[encoded data removed]",
      "text/plain": [
       "<matplotlib.figure.Figure at 0x10db25e90>"
      ]
     },
     "metadata": {},
     "output_type": "display_data"
    }
   ],
   "source": [
    "pyplot.scatter(components[:,0],components[:,1])"
   ]
  },
  {
   "cell_type": "code",
   "execution_count": 8,
   "metadata": {},
   "outputs": [
    {
     "name": "stdout",
     "output_type": "stream",
     "text": [
      "[[ 2.15142276 -0.17311941]\n",
      " [-3.80418259 -2.88749898]\n",
      " [-0.15321328 -0.98688598]\n",
      " [ 4.7065185   1.30153634]\n",
      " [-1.29375788  2.27912632]\n",
      " [-4.0993133   0.1435814 ]\n",
      " [ 1.62582148 -2.23208282]\n",
      " [-2.11448986  3.2512433 ]\n",
      " [ 0.2348172   0.37304031]\n",
      " [ 2.74637697 -1.06894049]]\n"
     ]
    }
   ],
   "source": [
    "#PCA using sklearn library\n",
    "\n",
    "from sklearn.decomposition import PCA\n",
    "pca = PCA(n_components=2)\n",
    "pca.fit(input)\n",
    "print(pca.transform(input)) "
   ]
  },
  {
   "cell_type": "code",
   "execution_count": null,
   "metadata": {},
   "outputs": [],
   "source": []
  }
 ],
 "metadata": {
  "kernelspec": {
   "display_name": "Python 2",
   "language": "python",
   "name": "python2"
  }
 },
 "nbformat": 4,
 "nbformat_minor": 2
}
