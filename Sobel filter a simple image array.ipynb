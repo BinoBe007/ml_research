{
 "cells": [
  {
   "cell_type": "code",
   "execution_count": 3,
   "metadata": {},
   "outputs": [
    {
     "data": {
      "text/plain": [
       "<matplotlib.image.AxesImage at 0x1117120d0>"
      ]
     },
     "execution_count": 3,
     "metadata": {},
     "output_type": "execute_result"
    },
    {
     "data": {
      "image/png": "[encoded data removed]",
      "text/plain": [
       "<matplotlib.figure.Figure at 0x111613210>"
      ]
     },
     "metadata": {},
     "output_type": "display_data"
    }
   ],
   "source": [
    "import numpy as np\n",
    "import matplotlib.pyplot as plt\n",
    "from scipy import signal\n",
    "\n",
    "#random sample image\n",
    "A = np.array([[0, 0, 0, 0, 0, 0, 0, 0, 0, 0, 0, 0],\n",
    "                   [0, 0, 0, 0, 0, 0, 0, 0, 0, 0, 0, 0],\n",
    "                   [0, 0, 0, 0, 0, 0, 0, 0, 0, 0, 0, 0],\n",
    "                   [0, 0, 0, 1, 1, 1, 1, 1, 1, 0, 0, 0],\n",
    "                   [0, 0, 0, 1, 1, 1, 1, 1, 1, 0, 0, 0],\n",
    "                   [0, 0, 0, 1, 1, 1, 1, 1, 1, 0, 0, 0],\n",
    "                   [0, 0, 0, 1, 1, 1, 1, 1, 1, 0, 0, 0],\n",
    "                   [0, 0, 0, 1, 1, 1, 1, 1, 1, 0, 0, 0],\n",
    "                   [0, 0, 0, 1, 1, 1, 1, 1, 1, 0, 0, 0],\n",
    "                   [0, 0, 0, 0, 0, 0, 0, 0, 0, 0, 0, 0],\n",
    "                   [0, 0, 0, 0, 0, 0, 0, 0, 0, 0, 0, 0],\n",
    "                   [0, 0, 0, 0, 0, 0, 0, 0, 0, 0, 0, 0]])\n",
    "\n",
    "#kernels \n",
    "kernel_horizontal = np.array([[-1, 0, 1], \n",
    "                              [-2, 0, 2], \n",
    "                              [-1, 0, 1]], dtype = np.float)\n",
    "\n",
    "kernel_vertical   = np.array([[1, 2, 1], \n",
    "                              [0, 0, 0], \n",
    "                              [-1, -2, -1]], dtype = np.float)\n",
    "\n",
    "Gx = signal.convolve2d(A, kernel_horizontal, boundary='symm', mode='same')\n",
    "Gy = signal.convolve2d(A, kernel_vertical, boundary='symm', mode='same')\n",
    "\n",
    "plt.subplot(131)\n",
    "plt.title(\"Original\")\n",
    "plt.imshow(A, cmap=\"gray\")\n",
    "plt.subplot(132)\n",
    "plt.title(\"Gx\")\n",
    "plt.imshow(Gx, cmap=\"gray\")\n",
    "plt.subplot(133)\n",
    "plt.title(\"Gy\")\n",
    "plt.imshow(Gy, cmap=\"gray\")\n",
    "#plt.show()"
   ]
  },
  {
   "cell_type": "code",
   "execution_count": 6,
   "metadata": {},
   "outputs": [
    {
     "data": {
      "text/plain": [
       "<matplotlib.image.AxesImage at 0x1119cad50>"
      ]
     },
     "execution_count": 6,
     "metadata": {},
     "output_type": "execute_result"
    },
    {
     "data": {
      "image/png": "[encoded data removed]",
      "text/plain": [
       "<matplotlib.figure.Figure at 0x10df02ed0>"
      ]
     },
     "metadata": {},
     "output_type": "display_data"
    }
   ],
   "source": [
    "gradient_magnitude = np.sqrt(Gx * Gx + Gy * Gy)\n",
    "\n",
    "plt.subplot(121)\n",
    "plt.title(\"Original image\")\n",
    "plt.imshow(A, cmap=\"gray\")\n",
    "plt.subplot(122)\n",
    "plt.title(\"Gradient magnitude\")\n",
    "plt.imshow(gradient_magnitude, cmap=\"gray\")"
   ]
  },
  {
   "cell_type": "code",
   "execution_count": null,
   "metadata": {},
   "outputs": [],
   "source": []
  }
 ],
 "metadata": {
  "kernelspec": {
   "display_name": "Python 2",
   "language": "python",
   "name": "python2"
  },
  "language_info": {
   "codemirror_mode": {
    "name": "ipython",
    "version": 2
   },
   "file_extension": ".py",
   "mimetype": "text/x-python",
   "name": "python",
   "nbconvert_exporter": "python",
   "pygments_lexer": "ipython2",
   "version": "2.7.15"
  }
 },
 "nbformat": 4,
 "nbformat_minor": 2
}
