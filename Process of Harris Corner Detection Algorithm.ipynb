{
 "cells": [
  {
   "cell_type": "markdown",
   "metadata": {},
   "source": [
    "### Process of Harris Corner Detection Algorithm\n",
    "1. Color to grayscale\n",
    "2. Spatial derivative calculation\n",
    "3. Structure tensor setup\n",
    "4. Harris response calculation\n",
    "5. Non-maximum suppression"
   ]
  },
  {
   "cell_type": "markdown",
   "metadata": {},
   "source": [
    "#### Step 1 : Color to grayscale"
   ]
  },
  {
   "cell_type": "code",
   "execution_count": 1,
   "metadata": {},
   "outputs": [
    {
     "data": {
      "text/plain": [
       "<matplotlib.figure.Figure at 0x1041aeb90>"
      ]
     },
     "metadata": {},
     "output_type": "display_data"
    }
   ],
   "source": [
    "from skimage.io import imread\n",
    "from skimage.color import rgb2gray\n",
    "import matplotlib.pyplot as plt\n",
    "\n",
    "img = imread('resources/box.jpg')\n",
    "imggray = rgb2gray(img)\n",
    "\n",
    "plt.imshow(imggray, cmap=\"gray\")\n",
    "plt.axis(\"off\")\n",
    "plt.show()"
   ]
  },
  {
   "cell_type": "markdown",
   "metadata": {},
   "source": [
    "#### Step 2 : Spatial derivative calculation"
   ]
  },
  {
   "cell_type": "code",
   "execution_count": 2,
   "metadata": {},
   "outputs": [],
   "source": [
    "from scipy import signal as sig\n",
    "import numpy as np\n",
    "\n",
    "def gradient_x(imggray):\n",
    "    ##Sobel operator kernels.\n",
    "    kernel_x = np.array([[-1, 0, 1],[-2, 0, 2],[-1, 0, 1]])\n",
    "    return sig.convolve2d(imggray, kernel_x, mode='same')\n",
    "def gradient_y(imggray):\n",
    "    kernel_y = np.array([[1, 2, 1], [0, 0, 0], [-1, -2, -1]])\n",
    "    return sig.convolve2d(imggray, kernel_y, mode='same')\n",
    "\n",
    "I_x = gradient_x(imggray)\n",
    "I_y = gradient_y(imggray)"
   ]
  },
  {
   "cell_type": "markdown",
   "metadata": {},
   "source": [
    "#### Step 3 : Structure tensor setup"
   ]
  },
  {
   "cell_type": "code",
   "execution_count": 3,
   "metadata": {},
   "outputs": [],
   "source": [
    "Ixx = I_x**2\n",
    "Ixy = I_y*I_x\n",
    "Iyy = I_y**2"
   ]
  },
  {
   "cell_type": "markdown",
   "metadata": {},
   "source": [
    "#### Step 4: Harris response calculation"
   ]
  },
  {
   "cell_type": "code",
   "execution_count": 4,
   "metadata": {},
   "outputs": [],
   "source": [
    "#Loop through image and find our corners\n",
    "k = 0.05\n",
    "\n",
    "height, width = imggray.shape\n",
    "harris_response = []\n",
    "window_size = 6\n",
    "offset = window_size/2\n",
    "for y in range(offset, height-offset):\n",
    "    for x in range(offset, width-offset):\n",
    "        Sxx = np.sum(Ixx[y-offset:y+1+offset, x-offset:x+1+offset])\n",
    "        Syy = np.sum(Iyy[y-offset:y+1+offset, x-offset:x+1+offset])\n",
    "        Sxy = np.sum(Ixy[y-offset:y+1+offset, x-offset:x+1+offset])\n",
    "        \n",
    "        #Find determinant and trace, use to get corner response\n",
    "        det = (Sxx * Syy) - (Sxy**2)\n",
    "        trace = Sxx + Syy\n",
    "        r = det - k*(trace**2)\n",
    "        \n",
    "        harris_response.append([x,y, r])"
   ]
  },
  {
   "cell_type": "markdown",
   "metadata": {},
   "source": [
    "#### Step 5: Non-maximum suppression\n",
    "1. Edge : r < 0\n",
    "2. Corner : r > 0\n",
    "3. Flat: r = 0"
   ]
  },
  {
   "cell_type": "code",
   "execution_count": 5,
   "metadata": {},
   "outputs": [
    {
     "data": {
      "image/png": "[encoded data removed]",
      "text/plain": [
       "<matplotlib.figure.Figure at 0x1c14135c90>"
      ]
     },
     "metadata": {},
     "output_type": "display_data"
    }
   ],
   "source": [
    "img_copy = np.copy(img)\n",
    "\n",
    "for response in harris_response:\n",
    "    x, y, r = response\n",
    "    if r > 0:\n",
    "        img_copy[y,x] = [255,0,0]\n",
    "\n",
    "        \n",
    "plt.imshow(img_copy)\n",
    "plt.show()"
   ]
  },
  {
   "cell_type": "code",
   "execution_count": 6,
   "metadata": {},
   "outputs": [
    {
     "data": {
      "text/plain": [
       "[<matplotlib.lines.Line2D at 0x1c15651210>]"
      ]
     },
     "execution_count": 6,
     "metadata": {},
     "output_type": "execute_result"
    },
    {
     "data": {
      "image/png": "[encoded data removed]",
      "text/plain": [
       "<matplotlib.figure.Figure at 0x1c15322dd0>"
      ]
     },
     "metadata": {},
     "output_type": "display_data"
    }
   ],
   "source": [
    "#Harris corner detection using skimage library\n",
    "from skimage.feature import corner_harris, corner_peaks\n",
    "# print corner_harris(ximage)\n",
    "coords = corner_peaks(corner_harris(imggray))\n",
    "\n",
    "fig, ax = plt.subplots()\n",
    "ax.imshow(img, interpolation='nearest', cmap=plt.cm.gray)\n",
    "ax.plot(coords[:, 1], coords[:, 0], '.r', markersize=3)"
   ]
  },
  {
   "cell_type": "code",
   "execution_count": null,
   "metadata": {},
   "outputs": [],
   "source": []
  }
 ],
 "metadata": {
  "kernelspec": {
   "display_name": "Python 2",
   "language": "python",
   "name": "python2"
  },
  "language_info": {
   "codemirror_mode": {
    "name": "ipython",
    "version": 2
   },
   "file_extension": ".py",
   "mimetype": "text/x-python",
   "name": "python",
   "nbconvert_exporter": "python",
   "pygments_lexer": "ipython2",
   "version": "2.7.15"
  }
 },
 "nbformat": 4,
 "nbformat_minor": 2
}
